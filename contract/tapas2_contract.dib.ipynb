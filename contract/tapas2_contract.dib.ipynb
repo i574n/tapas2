{
 "cells": [
  {
   "cell_type": "markdown",
   "metadata": {},
   "source": [
    "# tapas2_contract"
   ]
  },
  {
   "cell_type": "code",
   "execution_count": null,
   "metadata": {
    "dotnet_interactive": {
     "language": "spiral"
    },
    "polyglot_notebook": {
     "kernelName": "spiral"
    }
   },
   "outputs": [],
   "source": [
    "open rust\n",
    "open rust.rust_operators"
   ]
  },
  {
   "cell_type": "code",
   "execution_count": null,
   "metadata": {
    "dotnet_interactive": {
     "language": "spiral"
    },
    "polyglot_notebook": {
     "kernelName": "spiral"
    }
   },
   "outputs": [],
   "source": [
    "//// test\n",
    "\n",
    "open testing"
   ]
  },
  {
   "cell_type": "markdown",
   "metadata": {},
   "source": [
    "## tapas2_contract"
   ]
  },
  {
   "cell_type": "markdown",
   "metadata": {},
   "source": [
    "### state"
   ]
  },
  {
   "cell_type": "code",
   "execution_count": null,
   "metadata": {
    "dotnet_interactive": {
     "language": "spiral"
    },
    "polyglot_notebook": {
     "kernelName": "spiral"
    }
   },
   "outputs": [],
   "source": [
    "type state =\n",
    "    {\n",
    "        version : u32\n",
    "        seeds : near.vector u8\n",
    "    }"
   ]
  },
  {
   "cell_type": "code",
   "execution_count": null,
   "metadata": {
    "dotnet_interactive": {
     "language": "spiral"
    },
    "polyglot_notebook": {
     "kernelName": "spiral"
    }
   },
   "outputs": [
    {
     "data": {
      "text/plain": [
       "Installed near-sandbox into /home/runner/work/tapas2/spiral/workspace/target/release/build/near-sandbox-utils-cdf556a7364ec456/out/.near/near-sandbox-1.40.0_7dd0b5993577f592be15eb102e5a3da37be66271/near-sandbox\n",
       " \n",
       "00:00:04 \u001B[92mi\u001B[39m #2 near_workspaces.print_usd / { retry = 1; total_gas_burnt_usd = +0.000808; total_gas_burnt = 1209293011611 }\n",
       "00:00:04 \u001B[92mi\u001B[39m #3 near_workspaces.print_usd / outcome / { is_success = true; gas_burnt_usd = +0.000206; tokens_burnt_usd = +0.000206; gas_burnt = 308081859340; tokens_burnt = 30808185934000000000 }\n",
       "00:00:04 \u001B[92mi\u001B[39m #4 near_workspaces.print_usd / outcome / { is_success = true; gas_burnt_usd = +0.000602; tokens_burnt_usd = +0.000602; gas_burnt = 901211152271; tokens_burnt = 90121115227100000000 }\n",
       "00:00:04 \u001B[33mw\u001B[39m #5 spiral_wasm.run / Error error / { retry = 1; error = \"{ receipt_outcomes_len = 1; retry = 1; receipt_failures = [] }\" }\n",
       "\n",
       "\n",
       " \n",
       "00:00:06 \u001B[92mi\u001B[39m #8 near_workspaces.print_usd / { retry = 2; total_gas_burnt_usd = +0.000808; total_gas_burnt = 1209293011611 }\n",
       "00:00:06 \u001B[92mi\u001B[39m #9 near_workspaces.print_usd / outcome / { is_success = true; gas_burnt_usd = +0.000206; tokens_burnt_usd = +0.000206; gas_burnt = 308081859340; tokens_burnt = 30808185934000000000 }\n",
       "00:00:06 \u001B[92mi\u001B[39m #10 near_workspaces.print_usd / outcome / { is_success = true; gas_burnt_usd = +0.000602; tokens_burnt_usd = +0.000602; gas_burnt = 901211152271; tokens_burnt = 90121115227100000000 }\n",
       "00:00:06 \u001B[33mw\u001B[39m #11 spiral_wasm.run / Error error / { retry = 2; error = \"{ receipt_outcomes_len = 1; retry = 2; receipt_failures = [] }\" }\n",
       "\n",
       "\n",
       " \n",
       "00:00:08 \u001B[92mi\u001B[39m #14 near_workspaces.print_usd / { retry = 3; total_gas_burnt_usd = +0.000808; total_gas_burnt = 1209293011611 }\n",
       "00:00:08 \u001B[92mi\u001B[39m #15 near_workspaces.print_usd / outcome / { is_success = true; gas_burnt_usd = +0.000206; tokens_burnt_usd = +0.000206; gas_burnt = 308081859340; tokens_burnt = 30808185934000000000 }\n",
       "00:00:08 \u001B[92mi\u001B[39m #16 near_workspaces.print_usd / outcome / { is_success = true; gas_burnt_usd = +0.000602; tokens_burnt_usd = +0.000602; gas_burnt = 901211152271; tokens_burnt = 90121115227100000000 }\n",
       "00:00:08 \u001B[33mw\u001B[39m #17 spiral_wasm.run / Error error / { retry = 3; error = \"{ receipt_outcomes_len = 1; retry = 3; receipt_failures = [] }\" }\n",
       "\n",
       "\n",
       " \n",
       "00:00:11 \u001B[92mi\u001B[39m #20 near_workspaces.print_usd / { retry = 4; total_gas_burnt_usd = +0.000808; total_gas_burnt = 1209293011611 }\n",
       "00:00:11 \u001B[92mi\u001B[39m #21 near_workspaces.print_usd / outcome / { is_success = true; gas_burnt_usd = +0.000206; tokens_burnt_usd = +0.000206; gas_burnt = 308081859340; tokens_burnt = 30808185934000000000 }\n",
       "00:00:11 \u001B[92mi\u001B[39m #22 near_workspaces.print_usd / outcome / { is_success = true; gas_burnt_usd = +0.000602; tokens_burnt_usd = +0.000602; gas_burnt = 901211152271; tokens_burnt = 90121115227100000000 }\n",
       "00:00:11 \u001B[33mw\u001B[39m #23 spiral_wasm.run / Error error / { retry = 4; error = \"{ receipt_outcomes_len = 1; retry = 4; receipt_failures = [] }\" }\n",
       "\n",
       "\n",
       " \n",
       "00:00:13 \u001B[92mi\u001B[39m #26 near_workspaces.print_usd / { retry = 5; total_gas_burnt_usd = +0.000808; total_gas_burnt = 1209293011611 }\n",
       "00:00:13 \u001B[92mi\u001B[39m #27 near_workspaces.print_usd / outcome / { is_success = true; gas_burnt_usd = +0.000206; tokens_burnt_usd = +0.000206; gas_burnt = 308081859340; tokens_burnt = 30808185934000000000 }\n",
       "00:00:13 \u001B[92mi\u001B[39m #28 near_workspaces.print_usd / outcome / { is_success = true; gas_burnt_usd = +0.000602; tokens_burnt_usd = +0.000602; gas_burnt = 901211152271; tokens_burnt = 90121115227100000000 }\n",
       "00:00:13 \u001B[33mw\u001B[39m #29 spiral_wasm.run / Error error / { retry = 5; error = \"{ receipt_outcomes_len = 1; retry = 5; receipt_failures = [] }\" }\n",
       "\n",
       "\n",
       " \n",
       "00:00:16 \u001B[92mi\u001B[39m #32 near_workspaces.print_usd / { retry = 6; total_gas_burnt_usd = +0.000808; total_gas_burnt = 1209293011611 }\n",
       "00:00:16 \u001B[92mi\u001B[39m #33 near_workspaces.print_usd / outcome / { is_success = true; gas_burnt_usd = +0.000206; tokens_burnt_usd = +0.000206; gas_burnt = 308081859340; tokens_burnt = 30808185934000000000 }\n",
       "00:00:16 \u001B[92mi\u001B[39m #34 near_workspaces.print_usd / outcome / { is_success = true; gas_burnt_usd = +0.000602; tokens_burnt_usd = +0.000602; gas_burnt = 901211152271; tokens_burnt = 90121115227100000000 }\n",
       "00:00:16 \u001B[33mw\u001B[39m #35 spiral_wasm.run / Error error / { retry = 6; error = \"{ receipt_outcomes_len = 1; retry = 6; receipt_failures = [] }\" }\n",
       "\n",
       "\n",
       " \n",
       "00:00:18 \u001B[92mi\u001B[39m #38 near_workspaces.print_usd / { retry = 7; total_gas_burnt_usd = +0.000808; total_gas_burnt = 1209293011611 }\n",
       "00:00:18 \u001B[92mi\u001B[39m #39 near_workspaces.print_usd / outcome / { is_success = true; gas_burnt_usd = +0.000206; tokens_burnt_usd = +0.000206; gas_burnt = 308081859340; tokens_burnt = 30808185934000000000 }\n",
       "00:00:18 \u001B[92mi\u001B[39m #40 near_workspaces.print_usd / outcome / { is_success = true; gas_burnt_usd = +0.000602; tokens_burnt_usd = +0.000602; gas_burnt = 901211152271; tokens_burnt = 90121115227100000000 }\n",
       "00:00:18 \u001B[33mw\u001B[39m #41 spiral_wasm.run / Error error / { retry = 7; error = \"{ receipt_outcomes_len = 1; retry = 7; receipt_failures = [] }\" }\n",
       "\n",
       "\n",
       " \n",
       "00:00:21 \u001B[92mi\u001B[39m #44 near_workspaces.print_usd / { retry = 8; total_gas_burnt_usd = +0.000808; total_gas_burnt = 1209293011611 }\n",
       "00:00:21 \u001B[92mi\u001B[39m #45 near_workspaces.print_usd / outcome / { is_success = true; gas_burnt_usd = +0.000206; tokens_burnt_usd = +0.000206; gas_burnt = 308081859340; tokens_burnt = 30808185934000000000 }\n",
       "00:00:21 \u001B[92mi\u001B[39m #46 near_workspaces.print_usd / outcome / { is_success = true; gas_burnt_usd = +0.000602; tokens_burnt_usd = +0.000602; gas_burnt = 901211152271; tokens_burnt = 90121115227100000000 }\n",
       "00:00:21 \u001B[33mw\u001B[39m #47 spiral_wasm.run / Error error / { retry = 8; error = \"{ receipt_outcomes_len = 1; retry = 8; receipt_failures = [] }\" }\n",
       "\n",
       "\n",
       " \n",
       "00:00:24 \u001B[92mi\u001B[39m #50 near_workspaces.print_usd / { retry = 9; total_gas_burnt_usd = +0.000808; total_gas_burnt = 1209293011611 }\n",
       "00:00:24 \u001B[92mi\u001B[39m #51 near_workspaces.print_usd / outcome / { is_success = true; gas_burnt_usd = +0.000206; tokens_burnt_usd = +0.000206; gas_burnt = 308081859340; tokens_burnt = 30808185934000000000 }\n",
       "00:00:24 \u001B[92mi\u001B[39m #52 near_workspaces.print_usd / outcome / { is_success = true; gas_burnt_usd = +0.000602; tokens_burnt_usd = +0.000602; gas_burnt = 901211152271; tokens_burnt = 90121115227100000000 }\n",
       "00:00:24 \u001B[33mw\u001B[39m #53 spiral_wasm.run / Error error / { retry = 9; error = \"{ receipt_outcomes_len = 1; retry = 9; receipt_failures = [] }\" }\n",
       "\n",
       "\n",
       " \n",
       "00:00:26 \u001B[92mi\u001B[39m #56 near_workspaces.print_usd / { retry = 10; total_gas_burnt_usd = +0.000808; total_gas_burnt = 1209293011611 }\n",
       "00:00:26 \u001B[92mi\u001B[39m #57 near_workspaces.print_usd / outcome / { is_success = true; gas_burnt_usd = +0.000206; tokens_burnt_usd = +0.000206; gas_burnt = 308081859340; tokens_burnt = 30808185934000000000 }\n",
       "00:00:26 \u001B[92mi\u001B[39m #58 near_workspaces.print_usd / outcome / { is_success = true; gas_burnt_usd = +0.000602; tokens_burnt_usd = +0.000602; gas_burnt = 901211152271; tokens_burnt = 90121115227100000000 }\n",
       "00:00:26 \u001B[33mw\u001B[39m #59 spiral_wasm.run / Error error / { retry = 10; error = \"{ receipt_outcomes_len = 1; retry = 10; receipt_failures = [] }\" }\n",
       "\n",
       "\n",
       " \n",
       "00:00:29 \u001B[92mi\u001B[39m #62 near_workspaces.print_usd / { retry = 11; total_gas_burnt_usd = +0.000808; total_gas_burnt = 1209293011611 }\n",
       "00:00:29 \u001B[92mi\u001B[39m #63 near_workspaces.print_usd / outcome / { is_success = true; gas_burnt_usd = +0.000206; tokens_burnt_usd = +0.000206; gas_burnt = 308081859340; tokens_burnt = 30808185934000000000 }\n",
       "00:00:29 \u001B[92mi\u001B[39m #64 near_workspaces.print_usd / outcome / { is_success = true; gas_burnt_usd = +0.000602; tokens_burnt_usd = +0.000602; gas_burnt = 901211152271; tokens_burnt = 90121115227100000000 }\n",
       "00:00:29 \u001B[33mw\u001B[39m #65 spiral_wasm.run / Error error / { retry = 11; error = \"{ receipt_outcomes_len = 1; retry = 11; receipt_failures = [] }\" }\n",
       "\n",
       "\n",
       " \n",
       "00:00:31 \u001B[92mi\u001B[39m #68 near_workspaces.print_usd / { retry = 12; total_gas_burnt_usd = +0.000957; total_gas_burnt = 1432475574111 }\n",
       "00:00:31 \u001B[92mi\u001B[39m #69 near_workspaces.print_usd / outcome / { is_success = true; gas_burnt_usd = +0.000206; tokens_burnt_usd = +0.000206; gas_burnt = 308081859340; tokens_burnt = 30808185934000000000 }\n",
       "00:00:31 \u001B[92mi\u001B[39m #70 near_workspaces.print_usd / outcome / { is_success = true; gas_burnt_usd = +0.000602; tokens_burnt_usd = +0.000602; gas_burnt = 901211152271; tokens_burnt = 90121115227100000000 }\n",
       "00:00:31 \u001B[92mi\u001B[39m #71 near_workspaces.print_usd / outcome / { is_success = true; gas_burnt_usd = +0.000149; tokens_burnt_usd = +0.000000; gas_burnt = 223182562500; tokens_burnt = 0 }\n"
      ]
     },
     "metadata": {},
     "output_type": "display_data"
    }
   ],
   "source": [
    "//// test\n",
    "///! rust -c\n",
    "\n",
    "()"
   ]
  },
  {
   "cell_type": "code",
   "execution_count": null,
   "metadata": {
    "dotnet_interactive": {
     "language": "spiral"
    },
    "polyglot_notebook": {
     "kernelName": "spiral"
    }
   },
   "outputs": [
    {
     "data": {
      "text/plain": [
       " \n",
       "00:00:02 \u001B[92mi\u001B[39m #2 near_workspaces.print_usd / { retry = 1; total_gas_burnt_usd = +0.000869; total_gas_burnt = 1301165234016 }\n",
       "00:00:02 \u001B[92mi\u001B[39m #3 near_workspaces.print_usd / outcome / { is_success = true; gas_burnt_usd = +0.000206; tokens_burnt_usd = +0.000206; gas_burnt = 308081859340; tokens_burnt = 30808185934000000000 }\n",
       "00:00:02 \u001B[92mi\u001B[39m #4 near_workspaces.print_usd / outcome / { is_success = true; gas_burnt_usd = +0.000663; tokens_burnt_usd = +0.000663; gas_burnt = 993083374676; tokens_burnt = 99308337467600000000 }\n",
       "00:00:02 \u001B[33mw\u001B[39m #5 spiral_wasm.run / Error error / { retry = 1; error = \"{ receipt_outcomes_len = 1; retry = 1; receipt_failures = [] }\" }\n",
       "\n",
       "\n",
       " \n",
       "00:00:05 \u001B[92mi\u001B[39m #8 near_workspaces.print_usd / { retry = 2; total_gas_burnt_usd = +0.000869; total_gas_burnt = 1301165234016 }\n",
       "00:00:05 \u001B[92mi\u001B[39m #9 near_workspaces.print_usd / outcome / { is_success = true; gas_burnt_usd = +0.000206; tokens_burnt_usd = +0.000206; gas_burnt = 308081859340; tokens_burnt = 30808185934000000000 }\n",
       "00:00:05 \u001B[92mi\u001B[39m #10 near_workspaces.print_usd / outcome / { is_success = true; gas_burnt_usd = +0.000663; tokens_burnt_usd = +0.000663; gas_burnt = 993083374676; tokens_burnt = 99308337467600000000 }\n",
       "00:00:05 \u001B[33mw\u001B[39m #11 spiral_wasm.run / Error error / { retry = 2; error = \"{ receipt_outcomes_len = 1; retry = 2; receipt_failures = [] }\" }\n",
       "\n",
       "\n",
       " \n",
       "00:00:07 \u001B[92mi\u001B[39m #14 near_workspaces.print_usd / { retry = 3; total_gas_burnt_usd = +0.000869; total_gas_burnt = 1301165234016 }\n",
       "00:00:07 \u001B[92mi\u001B[39m #15 near_workspaces.print_usd / outcome / { is_success = true; gas_burnt_usd = +0.000206; tokens_burnt_usd = +0.000206; gas_burnt = 308081859340; tokens_burnt = 30808185934000000000 }\n",
       "00:00:07 \u001B[92mi\u001B[39m #16 near_workspaces.print_usd / outcome / { is_success = true; gas_burnt_usd = +0.000663; tokens_burnt_usd = +0.000663; gas_burnt = 993083374676; tokens_burnt = 99308337467600000000 }\n",
       "00:00:07 \u001B[33mw\u001B[39m #17 spiral_wasm.run / Error error / { retry = 3; error = \"{ receipt_outcomes_len = 1; retry = 3; receipt_failures = [] }\" }\n",
       "\n",
       "\n",
       " \n",
       "00:00:09 \u001B[92mi\u001B[39m #20 near_workspaces.print_usd / { retry = 4; total_gas_burnt_usd = +0.000869; total_gas_burnt = 1301165234016 }\n",
       "00:00:09 \u001B[92mi\u001B[39m #21 near_workspaces.print_usd / outcome / { is_success = true; gas_burnt_usd = +0.000206; tokens_burnt_usd = +0.000206; gas_burnt = 308081859340; tokens_burnt = 30808185934000000000 }\n",
       "00:00:09 \u001B[92mi\u001B[39m #22 near_workspaces.print_usd / outcome / { is_success = true; gas_burnt_usd = +0.000663; tokens_burnt_usd = +0.000663; gas_burnt = 993083374676; tokens_burnt = 99308337467600000000 }\n",
       "00:00:09 \u001B[33mw\u001B[39m #23 spiral_wasm.run / Error error / { retry = 4; error = \"{ receipt_outcomes_len = 1; retry = 4; receipt_failures = [] }\" }\n",
       "\n",
       "\n",
       " \n",
       "00:00:12 \u001B[92mi\u001B[39m #26 near_workspaces.print_usd / { retry = 5; total_gas_burnt_usd = +0.000869; total_gas_burnt = 1301165234016 }\n",
       "00:00:12 \u001B[92mi\u001B[39m #27 near_workspaces.print_usd / outcome / { is_success = true; gas_burnt_usd = +0.000206; tokens_burnt_usd = +0.000206; gas_burnt = 308081859340; tokens_burnt = 30808185934000000000 }\n",
       "00:00:12 \u001B[92mi\u001B[39m #28 near_workspaces.print_usd / outcome / { is_success = true; gas_burnt_usd = +0.000663; tokens_burnt_usd = +0.000663; gas_burnt = 993083374676; tokens_burnt = 99308337467600000000 }\n",
       "00:00:12 \u001B[33mw\u001B[39m #29 spiral_wasm.run / Error error / { retry = 5; error = \"{ receipt_outcomes_len = 1; retry = 5; receipt_failures = [] }\" }\n",
       "\n",
       "\n",
       " \n",
       "00:00:14 \u001B[92mi\u001B[39m #32 near_workspaces.print_usd / { retry = 6; total_gas_burnt_usd = +0.000869; total_gas_burnt = 1301165234016 }\n",
       "00:00:14 \u001B[92mi\u001B[39m #33 near_workspaces.print_usd / outcome / { is_success = true; gas_burnt_usd = +0.000206; tokens_burnt_usd = +0.000206; gas_burnt = 308081859340; tokens_burnt = 30808185934000000000 }\n",
       "00:00:14 \u001B[92mi\u001B[39m #34 near_workspaces.print_usd / outcome / { is_success = true; gas_burnt_usd = +0.000663; tokens_burnt_usd = +0.000663; gas_burnt = 993083374676; tokens_burnt = 99308337467600000000 }\n",
       "00:00:14 \u001B[33mw\u001B[39m #35 spiral_wasm.run / Error error / { retry = 6; error = \"{ receipt_outcomes_len = 1; retry = 6; receipt_failures = [] }\" }\n",
       "\n",
       "\n",
       " \n",
       "00:00:17 \u001B[92mi\u001B[39m #38 near_workspaces.print_usd / { retry = 7; total_gas_burnt_usd = +0.000869; total_gas_burnt = 1301165234016 }\n",
       "00:00:17 \u001B[92mi\u001B[39m #39 near_workspaces.print_usd / outcome / { is_success = true; gas_burnt_usd = +0.000206; tokens_burnt_usd = +0.000206; gas_burnt = 308081859340; tokens_burnt = 30808185934000000000 }\n",
       "00:00:17 \u001B[92mi\u001B[39m #40 near_workspaces.print_usd / outcome / { is_success = true; gas_burnt_usd = +0.000663; tokens_burnt_usd = +0.000663; gas_burnt = 993083374676; tokens_burnt = 99308337467600000000 }\n",
       "00:00:17 \u001B[33mw\u001B[39m #41 spiral_wasm.run / Error error / { retry = 7; error = \"{ receipt_outcomes_len = 1; retry = 7; receipt_failures = [] }\" }\n",
       "\n",
       "\n",
       " \n",
       "00:00:19 \u001B[92mi\u001B[39m #44 near_workspaces.print_usd / { retry = 8; total_gas_burnt_usd = +0.000869; total_gas_burnt = 1301165234016 }\n",
       "00:00:19 \u001B[92mi\u001B[39m #45 near_workspaces.print_usd / outcome / { is_success = true; gas_burnt_usd = +0.000206; tokens_burnt_usd = +0.000206; gas_burnt = 308081859340; tokens_burnt = 30808185934000000000 }\n",
       "00:00:19 \u001B[92mi\u001B[39m #46 near_workspaces.print_usd / outcome / { is_success = true; gas_burnt_usd = +0.000663; tokens_burnt_usd = +0.000663; gas_burnt = 993083374676; tokens_burnt = 99308337467600000000 }\n",
       "00:00:19 \u001B[33mw\u001B[39m #47 spiral_wasm.run / Error error / { retry = 8; error = \"{ receipt_outcomes_len = 1; retry = 8; receipt_failures = [] }\" }\n",
       "\n",
       "\n",
       " \n",
       "00:00:22 \u001B[92mi\u001B[39m #50 near_workspaces.print_usd / { retry = 9; total_gas_burnt_usd = +0.000869; total_gas_burnt = 1301165234016 }\n",
       "00:00:22 \u001B[92mi\u001B[39m #51 near_workspaces.print_usd / outcome / { is_success = true; gas_burnt_usd = +0.000206; tokens_burnt_usd = +0.000206; gas_burnt = 308081859340; tokens_burnt = 30808185934000000000 }\n",
       "00:00:22 \u001B[92mi\u001B[39m #52 near_workspaces.print_usd / outcome / { is_success = true; gas_burnt_usd = +0.000663; tokens_burnt_usd = +0.000663; gas_burnt = 993083374676; tokens_burnt = 99308337467600000000 }\n",
       "00:00:22 \u001B[33mw\u001B[39m #53 spiral_wasm.run / Error error / { retry = 9; error = \"{ receipt_outcomes_len = 1; retry = 9; receipt_failures = [] }\" }\n",
       "\n",
       "\n",
       " \n",
       "00:00:24 \u001B[92mi\u001B[39m #56 near_workspaces.print_usd / { retry = 10; total_gas_burnt_usd = +0.000869; total_gas_burnt = 1301165234016 }\n",
       "00:00:24 \u001B[92mi\u001B[39m #57 near_workspaces.print_usd / outcome / { is_success = true; gas_burnt_usd = +0.000206; tokens_burnt_usd = +0.000206; gas_burnt = 308081859340; tokens_burnt = 30808185934000000000 }\n",
       "00:00:24 \u001B[92mi\u001B[39m #58 near_workspaces.print_usd / outcome / { is_success = true; gas_burnt_usd = +0.000663; tokens_burnt_usd = +0.000663; gas_burnt = 993083374676; tokens_burnt = 99308337467600000000 }\n",
       "00:00:24 \u001B[33mw\u001B[39m #59 spiral_wasm.run / Error error / { retry = 10; error = \"{ receipt_outcomes_len = 1; retry = 10; receipt_failures = [] }\" }\n",
       "\n",
       "\n",
       " \n",
       "00:00:27 \u001B[92mi\u001B[39m #62 near_workspaces.print_usd / { retry = 11; total_gas_burnt_usd = +0.000869; total_gas_burnt = 1301165234016 }\n",
       "00:00:27 \u001B[92mi\u001B[39m #63 near_workspaces.print_usd / outcome / { is_success = true; gas_burnt_usd = +0.000206; tokens_burnt_usd = +0.000206; gas_burnt = 308081859340; tokens_burnt = 30808185934000000000 }\n",
       "00:00:27 \u001B[92mi\u001B[39m #64 near_workspaces.print_usd / outcome / { is_success = true; gas_burnt_usd = +0.000663; tokens_burnt_usd = +0.000663; gas_burnt = 993083374676; tokens_burnt = 99308337467600000000 }\n",
       "00:00:27 \u001B[33mw\u001B[39m #65 spiral_wasm.run / Error error / { retry = 11; error = \"{ receipt_outcomes_len = 1; retry = 11; receipt_failures = [] }\" }\n",
       "\n",
       "\n",
       " \n",
       "00:00:29 \u001B[92mi\u001B[39m #68 near_workspaces.print_usd / { retry = 12; total_gas_burnt_usd = +0.000869; total_gas_burnt = 1301165234016 }\n",
       "00:00:29 \u001B[92mi\u001B[39m #69 near_workspaces.print_usd / outcome / { is_success = true; gas_burnt_usd = +0.000206; tokens_burnt_usd = +0.000206; gas_burnt = 308081859340; tokens_burnt = 30808185934000000000 }\n",
       "00:00:29 \u001B[92mi\u001B[39m #70 near_workspaces.print_usd / outcome / { is_success = true; gas_burnt_usd = +0.000663; tokens_burnt_usd = +0.000663; gas_burnt = 993083374676; tokens_burnt = 99308337467600000000 }\n",
       "00:00:29 \u001B[33mw\u001B[39m #71 spiral_wasm.run / Error error / { retry = 12; error = \"{ receipt_outcomes_len = 1; retry = 12; receipt_failures = [] }\" }\n",
       "\n",
       "\n",
       " \n",
       "00:00:32 \u001B[92mi\u001B[39m #74 near_workspaces.print_usd / { retry = 13; total_gas_burnt_usd = +0.001018; total_gas_burnt = 1524347796516 }\n",
       "00:00:32 \u001B[92mi\u001B[39m #75 near_workspaces.print_usd / outcome / { is_success = true; gas_burnt_usd = +0.000206; tokens_burnt_usd = +0.000206; gas_burnt = 308081859340; tokens_burnt = 30808185934000000000 }\n",
       "00:00:32 \u001B[92mi\u001B[39m #76 near_workspaces.print_usd / outcome / { is_success = true; gas_burnt_usd = +0.000663; tokens_burnt_usd = +0.000663; gas_burnt = 993083374676; tokens_burnt = 99308337467600000000 }\n",
       "00:00:32 \u001B[92mi\u001B[39m #77 near_workspaces.print_usd / outcome / { is_success = true; gas_burnt_usd = +0.000149; tokens_burnt_usd = +0.000000; gas_burnt = 223182562500; tokens_burnt = 0 }\n"
      ]
     },
     "metadata": {},
     "output_type": "display_data"
    }
   ],
   "source": [
    "//// test\n",
    "///! rust -c\n",
    "\n",
    "trace Verbose (fun () => \"\") id"
   ]
  },
  {
   "cell_type": "markdown",
   "metadata": {},
   "source": [
    "### new"
   ]
  },
  {
   "cell_type": "code",
   "execution_count": null,
   "metadata": {
    "dotnet_interactive": {
     "language": "spiral"
    },
    "polyglot_notebook": {
     "kernelName": "spiral"
    }
   },
   "outputs": [],
   "source": [
    "inl new () : state =\n",
    "    {\n",
    "        version = 2\n",
    "        seeds = \"seeds\" |> sm'.byte_slice |> near.new_vector\n",
    "    }"
   ]
  },
  {
   "cell_type": "code",
   "execution_count": null,
   "metadata": {
    "dotnet_interactive": {
     "language": "spiral"
    },
    "polyglot_notebook": {
     "kernelName": "spiral"
    }
   },
   "outputs": [
    {
     "data": {
      "text/plain": [
       "00:00:00 \u001B[90mv\u001B[39m #1 tapas2_contract / { state = (2, Vector { len: 0, prefix: [115, 101, 101, 100, 115] }) }\n",
       " \n",
       "00:00:02 \u001B[92mi\u001B[39m #2 near_workspaces.print_usd / { retry = 1; total_gas_burnt_usd = +0.001042; total_gas_burnt = 1559408869831 }\n",
       "00:00:02 \u001B[92mi\u001B[39m #3 near_workspaces.print_usd / outcome / { is_success = true; gas_burnt_usd = +0.000206; tokens_burnt_usd = +0.000206; gas_burnt = 308081859340; tokens_burnt = 30808185934000000000 }\n",
       "00:00:02 \u001B[92mi\u001B[39m #4 near_workspaces.print_usd / outcome / { is_success = true; gas_burnt_usd = +0.000836; tokens_burnt_usd = +0.000836; gas_burnt = 1251327010491; tokens_burnt = 125132701049100000000 }\n",
       "00:00:02 \u001B[33mw\u001B[39m #5 spiral_wasm.run / Error error / { retry = 1; error = \"{ receipt_outcomes_len = 1; retry = 1; receipt_failures = [] }\" }\n",
       "\n",
       "\n",
       "00:00:00 \u001B[90mv\u001B[39m #1 tapas2_contract / { state = (2, Vector { len: 0, prefix: [115, 101, 101, 100, 115] }) }\n",
       " \n",
       "00:00:05 \u001B[92mi\u001B[39m #8 near_workspaces.print_usd / { retry = 2; total_gas_burnt_usd = +0.001042; total_gas_burnt = 1559408869831 }\n",
       "00:00:05 \u001B[92mi\u001B[39m #9 near_workspaces.print_usd / outcome / { is_success = true; gas_burnt_usd = +0.000206; tokens_burnt_usd = +0.000206; gas_burnt = 308081859340; tokens_burnt = 30808185934000000000 }\n",
       "00:00:05 \u001B[92mi\u001B[39m #10 near_workspaces.print_usd / outcome / { is_success = true; gas_burnt_usd = +0.000836; tokens_burnt_usd = +0.000836; gas_burnt = 1251327010491; tokens_burnt = 125132701049100000000 }\n",
       "00:00:05 \u001B[33mw\u001B[39m #11 spiral_wasm.run / Error error / { retry = 2; error = \"{ receipt_outcomes_len = 1; retry = 2; receipt_failures = [] }\" }\n",
       "\n",
       "\n",
       "00:00:00 \u001B[90mv\u001B[39m #1 tapas2_contract / { state = (2, Vector { len: 0, prefix: [115, 101, 101, 100, 115] }) }\n",
       " \n",
       "00:00:07 \u001B[92mi\u001B[39m #14 near_workspaces.print_usd / { retry = 3; total_gas_burnt_usd = +0.001042; total_gas_burnt = 1559408869831 }\n",
       "00:00:07 \u001B[92mi\u001B[39m #15 near_workspaces.print_usd / outcome / { is_success = true; gas_burnt_usd = +0.000206; tokens_burnt_usd = +0.000206; gas_burnt = 308081859340; tokens_burnt = 30808185934000000000 }\n",
       "00:00:07 \u001B[92mi\u001B[39m #16 near_workspaces.print_usd / outcome / { is_success = true; gas_burnt_usd = +0.000836; tokens_burnt_usd = +0.000836; gas_burnt = 1251327010491; tokens_burnt = 125132701049100000000 }\n",
       "00:00:07 \u001B[33mw\u001B[39m #17 spiral_wasm.run / Error error / { retry = 3; error = \"{ receipt_outcomes_len = 1; retry = 3; receipt_failures = [] }\" }\n",
       "\n",
       "\n",
       "00:00:00 \u001B[90mv\u001B[39m #1 tapas2_contract / { state = (2, Vector { len: 0, prefix: [115, 101, 101, 100, 115] }) }\n",
       " \n",
       "00:00:10 \u001B[92mi\u001B[39m #20 near_workspaces.print_usd / { retry = 4; total_gas_burnt_usd = +0.001042; total_gas_burnt = 1559408869831 }\n",
       "00:00:10 \u001B[92mi\u001B[39m #21 near_workspaces.print_usd / outcome / { is_success = true; gas_burnt_usd = +0.000206; tokens_burnt_usd = +0.000206; gas_burnt = 308081859340; tokens_burnt = 30808185934000000000 }\n",
       "00:00:10 \u001B[92mi\u001B[39m #22 near_workspaces.print_usd / outcome / { is_success = true; gas_burnt_usd = +0.000836; tokens_burnt_usd = +0.000836; gas_burnt = 1251327010491; tokens_burnt = 125132701049100000000 }\n",
       "00:00:10 \u001B[33mw\u001B[39m #23 spiral_wasm.run / Error error / { retry = 4; error = \"{ receipt_outcomes_len = 1; retry = 4; receipt_failures = [] }\" }\n",
       "\n",
       "\n",
       "00:00:00 \u001B[90mv\u001B[39m #1 tapas2_contract / { state = (2, Vector { len: 0, prefix: [115, 101, 101, 100, 115] }) }\n",
       " \n",
       "00:00:12 \u001B[92mi\u001B[39m #26 near_workspaces.print_usd / { retry = 5; total_gas_burnt_usd = +0.001191; total_gas_burnt = 1782591432331 }\n",
       "00:00:12 \u001B[92mi\u001B[39m #27 near_workspaces.print_usd / outcome / { is_success = true; gas_burnt_usd = +0.000206; tokens_burnt_usd = +0.000206; gas_burnt = 308081859340; tokens_burnt = 30808185934000000000 }\n",
       "00:00:12 \u001B[92mi\u001B[39m #28 near_workspaces.print_usd / outcome / { is_success = true; gas_burnt_usd = +0.000836; tokens_burnt_usd = +0.000836; gas_burnt = 1251327010491; tokens_burnt = 125132701049100000000 }\n",
       "00:00:12 \u001B[92mi\u001B[39m #29 near_workspaces.print_usd / outcome / { is_success = true; gas_burnt_usd = +0.000149; tokens_burnt_usd = +0.000000; gas_burnt = 223182562500; tokens_burnt = 0 }\n"
      ]
     },
     "metadata": {},
     "output_type": "display_data"
    }
   ],
   "source": [
    "//// test\n",
    "///! rust -c\n",
    "\n",
    "inl state = new ()\n",
    "trace Verbose (fun () => \"tapas2_contract\") fun () => { state = state |> sm'.format_debug }\n",
    "trace Verbose (fun () => \"\") id"
   ]
  },
  {
   "cell_type": "markdown",
   "metadata": {},
   "source": [
    "### max_seeds"
   ]
  },
  {
   "cell_type": "code",
   "execution_count": null,
   "metadata": {
    "dotnet_interactive": {
     "language": "spiral"
    },
    "polyglot_notebook": {
     "kernelName": "spiral"
    }
   },
   "outputs": [],
   "source": [
    "inl max_seeds () : unativeint =\n",
    "    100i32 |> convert"
   ]
  },
  {
   "cell_type": "markdown",
   "metadata": {},
   "source": [
    "### contribute_seed"
   ]
  },
  {
   "cell_type": "code",
   "execution_count": null,
   "metadata": {
    "dotnet_interactive": {
     "language": "spiral"
    },
    "polyglot_notebook": {
     "kernelName": "spiral"
    }
   },
   "outputs": [],
   "source": [
    "inl contribute_seed (seeds : rust.ref (rust.mut' (near.vector u8))) (seed : am'.vec u8) : () =\n",
    "    seeds |> near.vector_extend seed\n",
    "\n",
    "    inl seed_excess_len = (seeds |> rust.len |> fun x => x : u32 |> i32) - (max_seeds () |> i32)\n",
    "\n",
    "    if seed_excess_len > 0 then\n",
    "        inl seed_excess : am'.vec u8 =\n",
    "            !\\\\(seed_excess_len, $'\"!seeds.drain(0..$0 as u32).collect::<Vec<_>>()\"')\n",
    "        trace Debug\n",
    "            fun () => \"tapas2_contract.contribute_seed\"\n",
    "            fun () => { seed_excess_len seed_excess = seed_excess |> sm'.format_debug }\n",
    "    trace Debug (fun () => \"\") (join id)"
   ]
  },
  {
   "cell_type": "code",
   "execution_count": null,
   "metadata": {
    "dotnet_interactive": {
     "language": "spiral"
    },
    "polyglot_notebook": {
     "kernelName": "spiral"
    }
   },
   "outputs": [
    {
     "data": {
      "text/plain": [
       "00:00:00 \u001B[94md\u001B[39m #1 tapas2_contract.contribute_seed / { seed_excess_len = 20; seed_excess = [1, 2, 3, 4, 5, 6, 7, 8, 9, 10, 1, 2, 3, 4, 5, 6, 7, 8, 9, 20] }\n",
       " \n",
       "00:00:02 \u001B[92mi\u001B[39m #2 near_workspaces.print_usd / { retry = 1; total_gas_burnt_usd = +0.007450; total_gas_burnt = 11152031822938 }\n",
       "00:00:02 \u001B[92mi\u001B[39m #3 near_workspaces.print_usd / outcome / { is_success = true; gas_burnt_usd = +0.000206; tokens_burnt_usd = +0.000206; gas_burnt = 308081859340; tokens_burnt = 30808185934000000000 }\n",
       "00:00:02 \u001B[92mi\u001B[39m #4 near_workspaces.print_usd / outcome / { is_success = true; gas_burnt_usd = +0.007244; tokens_burnt_usd = +0.007244; gas_burnt = 10843949963598; tokens_burnt = 1084394996359800000000 }\n",
       "00:00:02 \u001B[33mw\u001B[39m #5 spiral_wasm.run / Error error / { retry = 1; error = \"{ receipt_outcomes_len = 1; retry = 1; receipt_failures = [] }\" }\n",
       "\n",
       "\n",
       "00:00:00 \u001B[94md\u001B[39m #1 tapas2_contract.contribute_seed / { seed_excess_len = 20; seed_excess = [1, 2, 3, 4, 5, 6, 7, 8, 9, 10, 1, 2, 3, 4, 5, 6, 7, 8, 9, 20] }\n",
       " \n",
       "00:00:05 \u001B[92mi\u001B[39m #8 near_workspaces.print_usd / { retry = 2; total_gas_burnt_usd = +0.007450; total_gas_burnt = 11152031822938 }\n",
       "00:00:05 \u001B[92mi\u001B[39m #9 near_workspaces.print_usd / outcome / { is_success = true; gas_burnt_usd = +0.000206; tokens_burnt_usd = +0.000206; gas_burnt = 308081859340; tokens_burnt = 30808185934000000000 }\n",
       "00:00:05 \u001B[92mi\u001B[39m #10 near_workspaces.print_usd / outcome / { is_success = true; gas_burnt_usd = +0.007244; tokens_burnt_usd = +0.007244; gas_burnt = 10843949963598; tokens_burnt = 1084394996359800000000 }\n",
       "00:00:05 \u001B[33mw\u001B[39m #11 spiral_wasm.run / Error error / { retry = 2; error = \"{ receipt_outcomes_len = 1; retry = 2; receipt_failures = [] }\" }\n",
       "\n",
       "\n",
       "00:00:00 \u001B[94md\u001B[39m #1 tapas2_contract.contribute_seed / { seed_excess_len = 20; seed_excess = [1, 2, 3, 4, 5, 6, 7, 8, 9, 10, 1, 2, 3, 4, 5, 6, 7, 8, 9, 20] }\n",
       " \n",
       "00:00:07 \u001B[92mi\u001B[39m #14 near_workspaces.print_usd / { retry = 3; total_gas_burnt_usd = +0.007450; total_gas_burnt = 11152031822938 }\n",
       "00:00:07 \u001B[92mi\u001B[39m #15 near_workspaces.print_usd / outcome / { is_success = true; gas_burnt_usd = +0.000206; tokens_burnt_usd = +0.000206; gas_burnt = 308081859340; tokens_burnt = 30808185934000000000 }\n",
       "00:00:07 \u001B[92mi\u001B[39m #16 near_workspaces.print_usd / outcome / { is_success = true; gas_burnt_usd = +0.007244; tokens_burnt_usd = +0.007244; gas_burnt = 10843949963598; tokens_burnt = 1084394996359800000000 }\n",
       "00:00:07 \u001B[33mw\u001B[39m #17 spiral_wasm.run / Error error / { retry = 3; error = \"{ receipt_outcomes_len = 1; retry = 3; receipt_failures = [] }\" }\n",
       "\n",
       "\n",
       "00:00:00 \u001B[94md\u001B[39m #1 tapas2_contract.contribute_seed / { seed_excess_len = 20; seed_excess = [1, 2, 3, 4, 5, 6, 7, 8, 9, 10, 1, 2, 3, 4, 5, 6, 7, 8, 9, 20] }\n",
       " \n",
       "00:00:10 \u001B[92mi\u001B[39m #20 near_workspaces.print_usd / { retry = 4; total_gas_burnt_usd = +0.007450; total_gas_burnt = 11152031822938 }\n",
       "00:00:10 \u001B[92mi\u001B[39m #21 near_workspaces.print_usd / outcome / { is_success = true; gas_burnt_usd = +0.000206; tokens_burnt_usd = +0.000206; gas_burnt = 308081859340; tokens_burnt = 30808185934000000000 }\n",
       "00:00:10 \u001B[92mi\u001B[39m #22 near_workspaces.print_usd / outcome / { is_success = true; gas_burnt_usd = +0.007244; tokens_burnt_usd = +0.007244; gas_burnt = 10843949963598; tokens_burnt = 1084394996359800000000 }\n",
       "00:00:10 \u001B[33mw\u001B[39m #23 spiral_wasm.run / Error error / { retry = 4; error = \"{ receipt_outcomes_len = 1; retry = 4; receipt_failures = [] }\" }\n",
       "\n",
       "\n",
       "00:00:00 \u001B[94md\u001B[39m #1 tapas2_contract.contribute_seed / { seed_excess_len = 20; seed_excess = [1, 2, 3, 4, 5, 6, 7, 8, 9, 10, 1, 2, 3, 4, 5, 6, 7, 8, 9, 20] }\n",
       " \n",
       "00:00:12 \u001B[92mi\u001B[39m #26 near_workspaces.print_usd / { retry = 5; total_gas_burnt_usd = +0.007450; total_gas_burnt = 11152031822938 }\n",
       "00:00:12 \u001B[92mi\u001B[39m #27 near_workspaces.print_usd / outcome / { is_success = true; gas_burnt_usd = +0.000206; tokens_burnt_usd = +0.000206; gas_burnt = 308081859340; tokens_burnt = 30808185934000000000 }\n",
       "00:00:12 \u001B[92mi\u001B[39m #28 near_workspaces.print_usd / outcome / { is_success = true; gas_burnt_usd = +0.007244; tokens_burnt_usd = +0.007244; gas_burnt = 10843949963598; tokens_burnt = 1084394996359800000000 }\n",
       "00:00:12 \u001B[33mw\u001B[39m #29 spiral_wasm.run / Error error / { retry = 5; error = \"{ receipt_outcomes_len = 1; retry = 5; receipt_failures = [] }\" }\n",
       "\n",
       "\n",
       "00:00:00 \u001B[94md\u001B[39m #1 tapas2_contract.contribute_seed / { seed_excess_len = 20; seed_excess = [1, 2, 3, 4, 5, 6, 7, 8, 9, 10, 1, 2, 3, 4, 5, 6, 7, 8, 9, 20] }\n",
       " \n",
       "00:00:15 \u001B[92mi\u001B[39m #32 near_workspaces.print_usd / { retry = 6; total_gas_burnt_usd = +0.007450; total_gas_burnt = 11152031822938 }\n",
       "00:00:15 \u001B[92mi\u001B[39m #33 near_workspaces.print_usd / outcome / { is_success = true; gas_burnt_usd = +0.000206; tokens_burnt_usd = +0.000206; gas_burnt = 308081859340; tokens_burnt = 30808185934000000000 }\n",
       "00:00:15 \u001B[92mi\u001B[39m #34 near_workspaces.print_usd / outcome / { is_success = true; gas_burnt_usd = +0.007244; tokens_burnt_usd = +0.007244; gas_burnt = 10843949963598; tokens_burnt = 1084394996359800000000 }\n",
       "00:00:15 \u001B[33mw\u001B[39m #35 spiral_wasm.run / Error error / { retry = 6; error = \"{ receipt_outcomes_len = 1; retry = 6; receipt_failures = [] }\" }\n",
       "\n",
       "\n",
       "00:00:00 \u001B[94md\u001B[39m #1 tapas2_contract.contribute_seed / { seed_excess_len = 20; seed_excess = [1, 2, 3, 4, 5, 6, 7, 8, 9, 10, 1, 2, 3, 4, 5, 6, 7, 8, 9, 20] }\n",
       " \n",
       "00:00:17 \u001B[92mi\u001B[39m #38 near_workspaces.print_usd / { retry = 7; total_gas_burnt_usd = +0.007450; total_gas_burnt = 11152031822938 }\n",
       "00:00:17 \u001B[92mi\u001B[39m #39 near_workspaces.print_usd / outcome / { is_success = true; gas_burnt_usd = +0.000206; tokens_burnt_usd = +0.000206; gas_burnt = 308081859340; tokens_burnt = 30808185934000000000 }\n",
       "00:00:17 \u001B[92mi\u001B[39m #40 near_workspaces.print_usd / outcome / { is_success = true; gas_burnt_usd = +0.007244; tokens_burnt_usd = +0.007244; gas_burnt = 10843949963598; tokens_burnt = 1084394996359800000000 }\n",
       "00:00:17 \u001B[33mw\u001B[39m #41 spiral_wasm.run / Error error / { retry = 7; error = \"{ receipt_outcomes_len = 1; retry = 7; receipt_failures = [] }\" }\n",
       "\n",
       "\n",
       "00:00:00 \u001B[94md\u001B[39m #1 tapas2_contract.contribute_seed / { seed_excess_len = 20; seed_excess = [1, 2, 3, 4, 5, 6, 7, 8, 9, 10, 1, 2, 3, 4, 5, 6, 7, 8, 9, 20] }\n",
       " \n",
       "00:00:20 \u001B[92mi\u001B[39m #44 near_workspaces.print_usd / { retry = 8; total_gas_burnt_usd = +0.007450; total_gas_burnt = 11152031822938 }\n",
       "00:00:20 \u001B[92mi\u001B[39m #45 near_workspaces.print_usd / outcome / { is_success = true; gas_burnt_usd = +0.000206; tokens_burnt_usd = +0.000206; gas_burnt = 308081859340; tokens_burnt = 30808185934000000000 }\n",
       "00:00:20 \u001B[92mi\u001B[39m #46 near_workspaces.print_usd / outcome / { is_success = true; gas_burnt_usd = +0.007244; tokens_burnt_usd = +0.007244; gas_burnt = 10843949963598; tokens_burnt = 1084394996359800000000 }\n",
       "00:00:20 \u001B[33mw\u001B[39m #47 spiral_wasm.run / Error error / { retry = 8; error = \"{ receipt_outcomes_len = 1; retry = 8; receipt_failures = [] }\" }\n",
       "\n",
       "\n",
       "00:00:00 \u001B[94md\u001B[39m #1 tapas2_contract.contribute_seed / { seed_excess_len = 20; seed_excess = [1, 2, 3, 4, 5, 6, 7, 8, 9, 10, 1, 2, 3, 4, 5, 6, 7, 8, 9, 20] }\n",
       " \n",
       "00:00:22 \u001B[92mi\u001B[39m #50 near_workspaces.print_usd / { retry = 9; total_gas_burnt_usd = +0.007450; total_gas_burnt = 11152031822938 }\n",
       "00:00:22 \u001B[92mi\u001B[39m #51 near_workspaces.print_usd / outcome / { is_success = true; gas_burnt_usd = +0.000206; tokens_burnt_usd = +0.000206; gas_burnt = 308081859340; tokens_burnt = 30808185934000000000 }\n",
       "00:00:22 \u001B[92mi\u001B[39m #52 near_workspaces.print_usd / outcome / { is_success = true; gas_burnt_usd = +0.007244; tokens_burnt_usd = +0.007244; gas_burnt = 10843949963598; tokens_burnt = 1084394996359800000000 }\n",
       "00:00:22 \u001B[33mw\u001B[39m #53 spiral_wasm.run / Error error / { retry = 9; error = \"{ receipt_outcomes_len = 1; retry = 9; receipt_failures = [] }\" }\n",
       "\n",
       "\n",
       "00:00:00 \u001B[94md\u001B[39m #1 tapas2_contract.contribute_seed / { seed_excess_len = 20; seed_excess = [1, 2, 3, 4, 5, 6, 7, 8, 9, 10, 1, 2, 3, 4, 5, 6, 7, 8, 9, 20] }\n",
       " \n",
       "00:00:25 \u001B[92mi\u001B[39m #56 near_workspaces.print_usd / { retry = 10; total_gas_burnt_usd = +0.007450; total_gas_burnt = 11152031822938 }\n",
       "00:00:25 \u001B[92mi\u001B[39m #57 near_workspaces.print_usd / outcome / { is_success = true; gas_burnt_usd = +0.000206; tokens_burnt_usd = +0.000206; gas_burnt = 308081859340; tokens_burnt = 30808185934000000000 }\n",
       "00:00:25 \u001B[92mi\u001B[39m #58 near_workspaces.print_usd / outcome / { is_success = true; gas_burnt_usd = +0.007244; tokens_burnt_usd = +0.007244; gas_burnt = 10843949963598; tokens_burnt = 1084394996359800000000 }\n",
       "00:00:25 \u001B[33mw\u001B[39m #59 spiral_wasm.run / Error error / { retry = 10; error = \"{ receipt_outcomes_len = 1; retry = 10; receipt_failures = [] }\" }\n",
       "\n",
       "\n",
       "00:00:00 \u001B[94md\u001B[39m #1 tapas2_contract.contribute_seed / { seed_excess_len = 20; seed_excess = [1, 2, 3, 4, 5, 6, 7, 8, 9, 10, 1, 2, 3, 4, 5, 6, 7, 8, 9, 20] }\n",
       " \n",
       "00:00:27 \u001B[92mi\u001B[39m #62 near_workspaces.print_usd / { retry = 11; total_gas_burnt_usd = +0.007450; total_gas_burnt = 11152031822938 }\n",
       "00:00:27 \u001B[92mi\u001B[39m #63 near_workspaces.print_usd / outcome / { is_success = true; gas_burnt_usd = +0.000206; tokens_burnt_usd = +0.000206; gas_burnt = 308081859340; tokens_burnt = 30808185934000000000 }\n",
       "00:00:27 \u001B[92mi\u001B[39m #64 near_workspaces.print_usd / outcome / { is_success = true; gas_burnt_usd = +0.007244; tokens_burnt_usd = +0.007244; gas_burnt = 10843949963598; tokens_burnt = 1084394996359800000000 }\n",
       "00:00:27 \u001B[33mw\u001B[39m #65 spiral_wasm.run / Error error / { retry = 11; error = \"{ receipt_outcomes_len = 1; retry = 11; receipt_failures = [] }\" }\n",
       "\n",
       "\n",
       "00:00:00 \u001B[94md\u001B[39m #1 tapas2_contract.contribute_seed / { seed_excess_len = 20; seed_excess = [1, 2, 3, 4, 5, 6, 7, 8, 9, 10, 1, 2, 3, 4, 5, 6, 7, 8, 9, 20] }\n",
       " \n",
       "00:00:30 \u001B[92mi\u001B[39m #68 near_workspaces.print_usd / { retry = 12; total_gas_burnt_usd = +0.007450; total_gas_burnt = 11152031822938 }\n",
       "00:00:30 \u001B[92mi\u001B[39m #69 near_workspaces.print_usd / outcome / { is_success = true; gas_burnt_usd = +0.000206; tokens_burnt_usd = +0.000206; gas_burnt = 308081859340; tokens_burnt = 30808185934000000000 }\n",
       "00:00:30 \u001B[92mi\u001B[39m #70 near_workspaces.print_usd / outcome / { is_success = true; gas_burnt_usd = +0.007244; tokens_burnt_usd = +0.007244; gas_burnt = 10843949963598; tokens_burnt = 1084394996359800000000 }\n",
       "00:00:30 \u001B[33mw\u001B[39m #71 spiral_wasm.run / Error error / { retry = 12; error = \"{ receipt_outcomes_len = 1; retry = 12; receipt_failures = [] }\" }\n",
       "\n",
       "\n",
       "00:00:00 \u001B[94md\u001B[39m #1 tapas2_contract.contribute_seed / { seed_excess_len = 20; seed_excess = [1, 2, 3, 4, 5, 6, 7, 8, 9, 10, 1, 2, 3, 4, 5, 6, 7, 8, 9, 20] }\n",
       " \n",
       "00:00:32 \u001B[92mi\u001B[39m #74 near_workspaces.print_usd / { retry = 13; total_gas_burnt_usd = +0.007450; total_gas_burnt = 11152031822938 }\n",
       "00:00:32 \u001B[92mi\u001B[39m #75 near_workspaces.print_usd / outcome / { is_success = true; gas_burnt_usd = +0.000206; tokens_burnt_usd = +0.000206; gas_burnt = 308081859340; tokens_burnt = 30808185934000000000 }\n",
       "00:00:32 \u001B[92mi\u001B[39m #76 near_workspaces.print_usd / outcome / { is_success = true; gas_burnt_usd = +0.007244; tokens_burnt_usd = +0.007244; gas_burnt = 10843949963598; tokens_burnt = 1084394996359800000000 }\n",
       "00:00:32 \u001B[33mw\u001B[39m #77 spiral_wasm.run / Error error / { retry = 13; error = \"{ receipt_outcomes_len = 1; retry = 13; receipt_failures = [] }\" }\n",
       "\n",
       "\n",
       "00:00:00 \u001B[94md\u001B[39m #1 tapas2_contract.contribute_seed / { seed_excess_len = 20; seed_excess = [1, 2, 3, 4, 5, 6, 7, 8, 9, 10, 1, 2, 3, 4, 5, 6, 7, 8, 9, 20] }\n",
       " \n",
       "00:00:34 \u001B[92mi\u001B[39m #80 near_workspaces.print_usd / { retry = 14; total_gas_burnt_usd = +0.007450; total_gas_burnt = 11152031822938 }\n",
       "00:00:34 \u001B[92mi\u001B[39m #81 near_workspaces.print_usd / outcome / { is_success = true; gas_burnt_usd = +0.000206; tokens_burnt_usd = +0.000206; gas_burnt = 308081859340; tokens_burnt = 30808185934000000000 }\n",
       "00:00:34 \u001B[92mi\u001B[39m #82 near_workspaces.print_usd / outcome / { is_success = true; gas_burnt_usd = +0.007244; tokens_burnt_usd = +0.007244; gas_burnt = 10843949963598; tokens_burnt = 1084394996359800000000 }\n",
       "00:00:34 \u001B[33mw\u001B[39m #83 spiral_wasm.run / Error error / { retry = 14; error = \"{ receipt_outcomes_len = 1; retry = 14; receipt_failures = [] }\" }\n",
       "\n",
       "\n",
       "00:00:00 \u001B[94md\u001B[39m #1 tapas2_contract.contribute_seed / { seed_excess_len = 20; seed_excess = [1, 2, 3, 4, 5, 6, 7, 8, 9, 10, 1, 2, 3, 4, 5, 6, 7, 8, 9, 20] }\n",
       " \n",
       "00:00:37 \u001B[92mi\u001B[39m #86 near_workspaces.print_usd / { retry = 15; total_gas_burnt_usd = +0.007450; total_gas_burnt = 11152031822938 }\n",
       "00:00:37 \u001B[92mi\u001B[39m #87 near_workspaces.print_usd / outcome / { is_success = true; gas_burnt_usd = +0.000206; tokens_burnt_usd = +0.000206; gas_burnt = 308081859340; tokens_burnt = 30808185934000000000 }\n",
       "00:00:37 \u001B[92mi\u001B[39m #88 near_workspaces.print_usd / outcome / { is_success = true; gas_burnt_usd = +0.007244; tokens_burnt_usd = +0.007244; gas_burnt = 10843949963598; tokens_burnt = 1084394996359800000000 }\n",
       "00:00:37 \u001B[33mw\u001B[39m #89 spiral_wasm.run / Error error / { retry = 15; error = \"{ receipt_outcomes_len = 1; retry = 15; receipt_failures = [] }\" }\n",
       "\n",
       "\n"
      ]
     },
     "metadata": {},
     "output_type": "display_data"
    }
   ],
   "source": [
    "//// test\n",
    "///! rust -c\n",
    "\n",
    "inl replicate n =\n",
    "    let rec loop i acc =\n",
    "        if i > n\n",
    "        then acc\n",
    "        else\n",
    "            inl i' = i % 10\n",
    "            inl i' =\n",
    "                if i' = 0\n",
    "                then i % limit.max\n",
    "                else i'\n",
    "            loop (i + 1) (i' :: acc)\n",
    "    loop 1 []\n",
    "    |> listm.rev\n",
    "    |> listm'.box\n",
    "    |> listm'.to_array'\n",
    "\n",
    "inl max_seeds : u32 = max_seeds () |> convert\n",
    "inl seeds = \"\" |> sm'.byte_slice |> near.new_vector |> rust.to_ref_mut\n",
    "\n",
    "conv max_seeds * 1.2f64\n",
    "|> replicate\n",
    "|> am'.map_base u8\n",
    "|> am'.to_vec\n",
    "|> contribute_seed seeds\n",
    "\n",
    "seeds\n",
    "|> rust.len\n",
    "|> _assert_eq max_seeds"
   ]
  },
  {
   "cell_type": "markdown",
   "metadata": {},
   "source": [
    "### main"
   ]
  },
  {
   "cell_type": "code",
   "execution_count": null,
   "metadata": {
    "dotnet_interactive": {
     "language": "spiral"
    },
    "polyglot_notebook": {
     "kernelName": "spiral"
    }
   },
   "outputs": [],
   "source": [
    "///! _\n",
    "\n",
    "inl main () =\n",
    "    !\\($'\"} //\"') : ()\n",
    "\n",
    "    !\\($'\"\\#[derive( //\"') : ()\n",
    "    !\\($'\"  near_sdk::PanicOnDefault, //\"') : ()\n",
    "    !\\($'\"  borsh::BorshDeserialize, //\"') : ()\n",
    "    !\\($'\"  borsh::BorshSerialize, //\"') : ()\n",
    "    !\\($'\")] //\"') : ()\n",
    "\n",
    "    !\\($'\"pub struct OldState { //\"') : ()\n",
    "    !\\($'\"    version: u32, //\"') : ()\n",
    "    !\\($'\"    seeds: near_sdk::store::vec::Vector<u8>, //\"') : ()\n",
    "    !\\($'\"} //\"') : ()\n",
    "\n",
    "    !\\($'\"\\#[near_sdk::near_bindgen] //\"') : ()\n",
    "\n",
    "    !\\($'\"\\#[derive( //\"') : ()\n",
    "    !\\($'\"  near_sdk::PanicOnDefault, //\"') : ()\n",
    "    !\\($'\"  borsh::BorshDeserialize, //\"') : ()\n",
    "    !\\($'\"  borsh::BorshSerialize, //\"') : ()\n",
    "    !\\($'\")] //\"') : ()\n",
    "\n",
    "    !\\($'\"pub struct State ( //\"') : ()\n",
    "\n",
    "    !\\($'\"/*\"') : ()\n",
    "    (null () : rust.type_emit state) |> ignore\n",
    "    !\\($'\"*/ )\"') : ()\n",
    "\n",
    "    !\\($'\"impl From<OldState> for State { //\"') : ()\n",
    "    !\\($'\"    fn from(old_state: OldState) -> Self { //\"') : ()\n",
    "    !\\($'\"        Self((old_state.version + 1, old_state.seeds)) //\"') : ()\n",
    "    !\\($'\"    } //\"') : ()\n",
    "    !\\($'\"} //\"') : ()\n",
    "\n",
    "    inl new_ () =\n",
    "        !\\($'\"\\#[init] //\"') : ()\n",
    "        !\\($'\"pub fn new() -> Self { // 1\"') : ()\n",
    "\n",
    "        (!\\($'\"true; /*\"') : bool) |> ignore\n",
    "\n",
    "        (null () : rust.type_emit ()) |> ignore\n",
    "\n",
    "        (!\\($'\"true; */\"') : bool) |> ignore\n",
    "\n",
    "        inl result = new ()\n",
    "        $'let _result = !result in _result |> (fun x -> Fable.Core.RustInterop.emitRustExpr x $\"Self($0) // x\") // 2' : ()\n",
    "\n",
    "        !\\($'\"} // 2.\"') : ()\n",
    "\n",
    "        !\\($'\"} // 1.\"') : ()\n",
    "\n",
    "        2\n",
    "\n",
    "    inl contribute_seed () =\n",
    "        !\\($'\"pub fn contribute_seed(&mut self, seed: Vec<u8>) { //\"') : ()\n",
    "        inl seeds : rust.ref (rust.mut' (near.vector u8)) = !\\($'$\"&mut self.0.1\"')\n",
    "        inl seed : am'.vec u8 = !\\($'$\"seed\"')\n",
    "\n",
    "        seed |> contribute_seed seeds\n",
    "\n",
    "        !\\($'\"} //\"') : ()\n",
    "\n",
    "        !\\($'\"} //\"') : ()\n",
    "\n",
    "        !\\($'\"} //\"') : ()\n",
    "\n",
    "        3\n",
    "\n",
    "    inl contribute_seed_borsh () =\n",
    "        !\\($'\"pub fn contribute_seed_borsh(&mut self, \\#[serializer(borsh)] seed: Vec<u8>) { //\"') : ()\n",
    "        !\\($'\"    self.contribute_seed(seed) //\"') : ()\n",
    "        !\\($'\"} //\"') : ()\n",
    "\n",
    "        1\n",
    "\n",
    "    inl fns =\n",
    "        [\n",
    "            new_\n",
    "            contribute_seed\n",
    "            contribute_seed_borsh\n",
    "        ]\n",
    "\n",
    "    // inl rec loop acc fns i =\n",
    "    inl rec loop forall i {number} j {number}. (acc : i) (fns : list (() -> i)) (i : j) : i =\n",
    "        match fns with\n",
    "        | [] => acc\n",
    "        | x :: xs =>\n",
    "            !\\($'\"\\#[near_sdk::near_bindgen] //\"') : ()\n",
    "            !\\($'\"impl State { //\"') : ()\n",
    "            inl n = x ()\n",
    "            !\\($'\"} /* c\"') : ()\n",
    "            // inl rec loop' i' =\n",
    "            inl rec loop' forall t {number}. (i' : t) : () =\n",
    "                if i' <> 1 // <= n\n",
    "                then (!\\($'\"true; */ // ???? / i: !i / i\\': !i' / acc: !acc / n: !n\"') : bool) |> ignore\n",
    "                else\n",
    "                    (!\\($'\"true; // ??? / i: !i / i\\': !i' / acc: !acc / n: !n\"') : bool) |> ignore\n",
    "                    loop' (i' + 1)\n",
    "            loop' 1u8\n",
    "            loop (acc + n) xs (i + 1)\n",
    "    inl n = loop 0u8 fns 1u8\n",
    "\n",
    "\n",
    "    // !\\($'\"/* a\"') : ()\n",
    "\n",
    "    // !\\($'\"} // b\"') : ()\n",
    "\n",
    "    !\\($'\"fn _main() //\"') : ()\n",
    "    !\\($'\" //\"') : ()\n",
    "\n",
    "    inl rec loop' i' =\n",
    "        if i' <= n\n",
    "        then\n",
    "            (!\\($'\"true; { (); // ?? / i\\': !i' / n: !n\"') : bool) |> ignore\n",
    "            loop' (i' + 1)\n",
    "        else\n",
    "            (!\\($'\"true; { { (); // ? / i\\': !i' / n: !n\"') : bool) |> ignore\n",
    "            // (!\\($'\"true; */ // ?? / i\\': !i' / n: !n\"') : bool) |> ignore\n",
    "    loop' 1u8\n",
    "\n",
    "inl main () =\n",
    "    $'!main |> ignore' : ()"
   ]
  }
 ],
 "metadata": {},
 "nbformat": 4,
 "nbformat_minor": 5
}